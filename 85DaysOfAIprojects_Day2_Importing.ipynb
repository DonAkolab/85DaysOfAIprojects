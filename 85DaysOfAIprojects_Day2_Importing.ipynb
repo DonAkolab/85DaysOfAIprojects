{
  "nbformat": 4,
  "nbformat_minor": 0,
  "metadata": {
    "colab": {
      "name": "85DaysOfAIprojects: Day2 Importing.ipynb",
      "provenance": [],
      "collapsed_sections": [],
      "include_colab_link": true
    },
    "kernelspec": {
      "name": "python3",
      "display_name": "Python 3"
    }
  },
  "cells": [
    {
      "cell_type": "markdown",
      "metadata": {
        "id": "view-in-github",
        "colab_type": "text"
      },
      "source": [
        "<a href=\"https://colab.research.google.com/github/DonAkolab/85DaysOfAIprojects/blob/master/85DaysOfAIprojects_Day2_Importing.ipynb\" target=\"_parent\"><img src=\"https://colab.research.google.com/assets/colab-badge.svg\" alt=\"Open In Colab\"/></a>"
      ]
    },
    {
      "cell_type": "markdown",
      "metadata": {
        "id": "9-vecOQSUvU7",
        "colab_type": "text"
      },
      "source": [
        "#85DaysOfAIprojects"
      ]
    },
    {
      "cell_type": "markdown",
      "metadata": {
        "id": "K3O_3NmSWObV",
        "colab_type": "text"
      },
      "source": [
        "##Importing from Local Computer\n"
      ]
    },
    {
      "cell_type": "code",
      "metadata": {
        "id": "n5UmDcnoUpYP",
        "colab_type": "code",
        "colab": {}
      },
      "source": [
        "##  Uploading dataset from local filesystem\n",
        "### This option will create a “Choose File” button in your notebook, using which you can upload your dataset to the notebook’s runtime\n",
        "##  This Recommended for small data sets\n",
        "from google.colab import files\n",
        "uploaded = files.upload()"
      ],
      "execution_count": 0,
      "outputs": []
    },
    {
      "cell_type": "code",
      "metadata": {
        "id": "nipAlzfpZWxD",
        "colab_type": "code",
        "colab": {}
      },
      "source": [
        "### Here I’ll use show how to use pandas to store the uploaded csv file into a DataFrame\n",
        "import pandas as pd\n",
        "import io  #The io module provides the Python interfaces to stream handling\n",
        "train_data = pd.read_csv(io.StringIO(uploaded['train.csv'].decode('utf-8')))"
      ],
      "execution_count": 0,
      "outputs": []
    },
    {
      "cell_type": "markdown",
      "metadata": {
        "id": "tamGOylVWOej",
        "colab_type": "text"
      },
      "source": [
        "##Importing from Google Drive Cloud"
      ]
    },
    {
      "cell_type": "code",
      "metadata": {
        "id": "rmoUHdrIbRNo",
        "colab_type": "code",
        "colab": {}
      },
      "source": [
        "from google.colab import drive\n",
        "drive.mount('/content/gdrive')"
      ],
      "execution_count": 0,
      "outputs": []
    },
    {
      "cell_type": "code",
      "metadata": {
        "id": "v6HiR0ABbReb",
        "colab_type": "code",
        "colab": {}
      },
      "source": [
        "### You can now use cd and ls commence\n",
        "### I’ll import test.csv using pandas.\n",
        "test_data = pd.read_csv('/content/gdrive/My Drive/Housing-Price-Prediction/data/test.csv')\n"
      ],
      "execution_count": 0,
      "outputs": []
    },
    {
      "cell_type": "markdown",
      "metadata": {
        "id": "L2ZYL62FWOh6",
        "colab_type": "text"
      },
      "source": [
        "##Importing from Kaggle\n"
      ]
    },
    {
      "cell_type": "code",
      "metadata": {
        "id": "AwwL2a9VeVI6",
        "colab_type": "code",
        "colab": {}
      },
      "source": [
        "## You need to first install kaggle API and make a directory called kaggle.\n",
        "!pip install -U -q kaggle\n",
        "!mkdir -p ~/.kaggle"
      ],
      "execution_count": 0,
      "outputs": []
    },
    {
      "cell_type": "code",
      "metadata": {
        "id": "ugvMdiU8es3C",
        "colab_type": "code",
        "colab": {}
      },
      "source": [
        "## import the API key into colab\n",
        "from google.colab import files\n",
        "files.upload()"
      ],
      "execution_count": 0,
      "outputs": []
    },
    {
      "cell_type": "code",
      "metadata": {
        "id": "w-bfo6cjezUj",
        "colab_type": "code",
        "colab": {}
      },
      "source": [
        "## run this code to copy the API key to the kaggle directory we created\n",
        "!cp kaggle.json ~/.kaggle/"
      ],
      "execution_count": 0,
      "outputs": []
    },
    {
      "cell_type": "code",
      "metadata": {
        "id": "P90U6d7DfBn6",
        "colab_type": "code",
        "colab": {}
      },
      "source": [
        "## Let us list the datasets with this code.\n",
        "!kaggle datasets list"
      ],
      "execution_count": 0,
      "outputs": []
    },
    {
      "cell_type": "code",
      "metadata": {
        "id": "NFm7abetfkYK",
        "colab_type": "code",
        "colab": {}
      },
      "source": [
        "## We can download files now by using this sample code. In this case the US consumer finance complaints was downloaded.\n",
        "!kaggle datasets download -d cfpb/us-consumer-finance-complaints\n",
        "!ls"
      ],
      "execution_count": 0,
      "outputs": []
    },
    {
      "cell_type": "code",
      "metadata": {
        "id": "sHeyK6wHfr3c",
        "colab_type": "code",
        "colab": {}
      },
      "source": [
        "## We use pandas to read the data we have downloaded by unzipping the file first. This line of code works in most situations.\n",
        "import pandas as pd\n",
        "data2 = pd.read_csv('/content/us-consumer-finance-complaints.zip', compression='zip', header=0, sep=',', quotechar='\"')"
      ],
      "execution_count": 0,
      "outputs": []
    },
    {
      "cell_type": "code",
      "metadata": {
        "id": "Yy25qeATgC2B",
        "colab_type": "code",
        "colab": {}
      },
      "source": [
        "## It did not work here because the zipped file also contains a sqlite database. I will use a different method below to extract only the CSV.\n",
        "from zipfile import ZipFile\n",
        "zip_file = ZipFile('/content/us-consumer-finance-complaints.zip')\n",
        "fields = ['product','consumer_complaint_narrative'] \n",
        "data = pd.read_csv(zip_file.open('consumer_complaints.csv'), usecols=fields)\n",
        "data.head()"
      ],
      "execution_count": 0,
      "outputs": []
    },
    {
      "cell_type": "markdown",
      "metadata": {
        "id": "I4kd4W4PWOnb",
        "colab_type": "text"
      },
      "source": [
        "##Uploading dataset on GitHub and then cloning it into Colab Notebook\n"
      ]
    },
    {
      "cell_type": "code",
      "metadata": {
        "id": "Dhptvlqxh1iE",
        "colab_type": "code",
        "colab": {}
      },
      "source": [
        "#Upload data set to github, then click on View Raw. Copy the link to the raw dataset.\n",
        "url = 'copied_raw_GH_link'\n",
        "df1 = pd.read_csv(url)\n",
        "# Dataset is now stored in a Pandas Dataframe\n",
        "\n"
      ],
      "execution_count": 0,
      "outputs": []
    },
    {
      "cell_type": "markdown",
      "metadata": {
        "id": "H-vwrRk-kb24",
        "colab_type": "text"
      },
      "source": [
        "##Uploading dataset from PyDrive"
      ]
    },
    {
      "cell_type": "code",
      "metadata": {
        "id": "k8TMF0Ewkiw6",
        "colab_type": "code",
        "colab": {}
      },
      "source": [
        "# Code to read csv file into Colaboratory:\n",
        "!pip install -U -q PyDrive\n",
        "from pydrive.auth import GoogleAuth\n",
        "from pydrive.drive import GoogleDrive\n",
        "from google.colab import auth\n",
        "from oauth2client.client import GoogleCredentials\n",
        "\n",
        "# Authenticate and create the PyDrive client.\n",
        "auth.authenticate_user()\n",
        "gauth = GoogleAuth()\n",
        "gauth.credentials = GoogleCredentials.get_application_default()\n",
        "drive = GoogleDrive(gauth)"
      ],
      "execution_count": 0,
      "outputs": []
    },
    {
      "cell_type": "markdown",
      "metadata": {
        "id": "qRas6NjZgg06",
        "colab_type": "text"
      },
      "source": [
        "# References\n",
        "https://medium.com/@master_yi/importing-datasets-in-google-colab-c816fc654f97\n",
        "\n",
        "https://medium.com/@opalkabertdownloading-kaggle-datasets-into-google-colab-fb9654c94235\n",
        "\n",
        "https://colab.research.google.com/github/googlecolab/colabtools/blob/master/notebooks/colab-github-demo.ipynb\n"
      ]
    }
  ]
}